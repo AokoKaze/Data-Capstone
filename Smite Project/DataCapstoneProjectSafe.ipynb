{
 "cells": [
  {
   "cell_type": "markdown",
   "id": "0596152c",
   "metadata": {},
   "source": [
    "Now, the work done on the kaggle dataset is all very well. However, that dataset bears the same resemblence to data in the real world as a perfectly posed and touched up shot of a supermodel does to a cellphone pic of a random person on the street. Real data isn't perfectly organinzed and is quite often a mess. In the spirit of that, I've chosen to use the API for the Hirez game Smite to do this project. "
   ]
  },
  {
   "cell_type": "markdown",
   "id": "d53bfecc",
   "metadata": {},
   "source": [
    "The question I've chosen to ask is the following: Which of the playable characters (gods) is the best? By best, I mean the god with the highest (at least in the data I am able to pull) win rate. Since the data is sorted by queue (which game mode was played), I will be further narrowing my question to which god is best in Joust mode. Code to access the API, pull out this data and get the answer to this question follows below."
   ]
  },
  {
   "cell_type": "markdown",
   "id": "7862bc0e",
   "metadata": {},
   "source": [
    "First, we import what we need and set some options to make sure things come out the way we want."
   ]
  },
  {
   "cell_type": "code",
   "execution_count": 2,
   "id": "54a42227",
   "metadata": {},
   "outputs": [],
   "source": [
    "from pytz import timezone\n",
    "from datetime import datetime\n",
    "import os\n",
    "import hashlib\n",
    "import requests\n",
    "import json\n",
    "import pandas as pd\n",
    "import numpy as np\n",
    "import seaborn as sns\n",
    "import matplotlib.pyplot as plt\n",
    "sns.set_style('whitegrid')\n",
    "%matplotlib inline\n",
    "#This is a jupyter notebook command that will make all graphs appear automatically, no need to use print()\n",
    "pd.set_option('display.float_format', lambda x: '%.5f' % x)\n",
    "#Without the pd.set above, we will get some weird formats for our match id numbers if we save and then load them back in.\n"
   ]
  },
  {
   "cell_type": "markdown",
   "id": "56415633",
   "metadata": {},
   "source": [
    "Now we set up our functions"
   ]
  },
  {
   "cell_type": "code",
   "execution_count": 3,
   "id": "02fcb069",
   "metadata": {},
   "outputs": [],
   "source": [
    "\n",
    "def get_time_string():\n",
    "    \"\"\"\n",
    "    As a part of the signature and a part of every call to the API we need the current UTC time in a specific format\n",
    "    which this function creates for us.\n",
    "    \"\"\"\n",
    "    current_time = datetime.now(timezone('UTC'))\n",
    "    current_time = current_time.strftime(\"%Y%m%d%H%M%S\")\n",
    "    return current_time\n",
    "\n",
    "    \n",
    "def signature(method_name):\n",
    "    \"\"\"\n",
    "    Creates the signature, which takes a string composed of DevId, method call, Auth Key and the date and hashes it. \n",
    "    This is required for every call to the API. Note: This function will not work unless the DevId and Auth Key placeholders\n",
    "    are replaced by real ones, which must be granted by Hirez.\n",
    "    \n",
    "    :param method_name: String that consists of the particular type of call you are attempting.\n",
    "    \"\"\"\n",
    "    working_string = \"DevId\" + method_name + \"Auth Key\" + get_time_string()\n",
    "    result = hashlib.md5(working_string.encode())\n",
    "    return(result.hexdigest())\n",
    "    \n",
    "   \n",
    "def create_session():\n",
    "    \"\"\"\n",
    "    Creates a session with the Smite API. Must be done before any queries are made. Note: This function will not work unless\n",
    "    the DevId placeholder is replaced by a real DevId.\n",
    "    \"\"\"\n",
    "    copy_string = \"https://api.smitegame.com/smiteapi.svc/createsessionJson/DevId/\"\n",
    "    copy_string += str(signature(\"createsession\")) + \"/\" + get_time_string()\n",
    "    return copy_string\n",
    "\n",
    "\n",
    "def get_gods():\n",
    "    \"\"\"\n",
    "    Pulls the data on the various gods from the Smite API. Note: This function will not work unless the DevId placeholder \n",
    "    is replaced by a real DevId.\n",
    "    \"\"\"\n",
    "    copy_string = \"https://api.smitegame.com/smiteapi.svc/getgodsJson/DevId/\"\n",
    "    copy_string += str(signature(\"getgods\")) + \"/\" + session_deets['session_id'] + \"/\" + get_time_string() + \"/1\"\n",
    "    return copy_string\n",
    "\n",
    "\n",
    "def get_match_details(match_id):\n",
    "    \"\"\"\n",
    "    Pulls the data on specific match from the Smite API. Note: This function will not work unless the DevId placeholder \n",
    "    is replaced by a real DevId.\n",
    "    \n",
    "    :param match_id: Int that specifies which match you wish to know about. May be acquired in game from a player's match\n",
    "    history or by other calls.\n",
    "    \"\"\"\n",
    "    copy_string = \"https://api.smitegame.com/smiteapi.svc/getmatchdetailsJson/DevId/\"\n",
    "    copy_string += str(signature(\"getmatchdetails\")) + \"/\" + session_deets['session_id'] + \"/\" + get_time_string() + \"/\" + str(match_id)\n",
    "    return copy_string\n",
    "\n",
    "\n",
    "def get_match_ids(queue, date, hour):\n",
    "    \"\"\"\n",
    "    Pulls the match ids from a specified queue during a specific ten minute interval. Note: This function will not work \n",
    "    unless the DevId placeholder is replaced by a real DevId.\n",
    "    \n",
    "    :param queue: Code for which queue or type of game you wish do query. Codes may be found in the Smite API documentation.\n",
    "    :param date: The date of the match ids you wish to find. Must be formated as YYYYMMDD.\n",
    "    \"param hour\" The ten minute interval during which you wish to inquire. Format is \"H,MM\". Valid H entries are 1-24, Valid \n",
    "    mm entries are 00, 10, 20, 30, 40, 50.\n",
    "    \"\"\"\n",
    "    copy_string = \"https://api.smitegame.com/smiteapi.svc/getmatchidsbyqueueJson/DevId/\"\n",
    "    copy_string += str(signature(\"getmatchidsbyqueue\")) + \"/\" + session_deets['session_id'] + \"/\" + get_time_string() + \"/\" + queue + \"/\" + str(date) + \"/\" + hour\n",
    "    return copy_string\n",
    "\n",
    "\n",
    "def pull_date_files(date):\n",
    "    \"\"\"\n",
    "    Pulls and saves the match details from hour 12 on the selected date. Note: The directory in the second to last line\n",
    "    must be changed to match that of the location you wish the files to be saved to locally\n",
    "    \n",
    "    :params: date The date of the matches you wish to find information on. Must be formated as YYYYMMDD.\n",
    "    \"\"\"\n",
    "    time_list = [\"12,00\", \"12,10\", \"12,20\", \"12,30\", \"12,40\", \"12,50\"]\n",
    "    joust_id = \"448\"\n",
    "    match_list = []\n",
    "    for thing in time_list:\n",
    "        match_id_answer = requests.get(get_match_ids(joust_id, date, thing))\n",
    "        match_id_info = match_id_answer.json()\n",
    "        for item in match_id_info:\n",
    "            match_list.append(item['Match'])\n",
    "        for item in match_list:\n",
    "            match_id = str(item)\n",
    "            match_answer = requests.get(get_match_details(item))\n",
    "            match_answer = match_answer.json()\n",
    "            with open(f'C:/Users/AokoK/Documents/Python Scripts/Matches/{match_id}.json', 'w') as json_file:\n",
    "                json.dump(match_answer, json_file)\n",
    "\n",
    "\n",
    "    "
   ]
  },
  {
   "cell_type": "markdown",
   "id": "2146d69c",
   "metadata": {},
   "source": [
    "Now, we begin by creating our session"
   ]
  },
  {
   "cell_type": "code",
   "execution_count": 4,
   "id": "99d3f88a",
   "metadata": {},
   "outputs": [
    {
     "name": "stdout",
     "output_type": "stream",
     "text": [
      "{'ret_msg': 'Approved', 'session_id': '7C0E60F8A15F434D97D9CE7C2CDA3E23', 'timestamp': '8/21/2022 5:49:59 PM'}\n"
     ]
    }
   ],
   "source": [
    "answer = requests.get(create_session())\n",
    "print(answer.json())\n",
    "#This code checks to make sure we have access to the Smite API and, if necessary, that our daily data limits have refreshed."
   ]
  },
  {
   "cell_type": "markdown",
   "id": "e674f650",
   "metadata": {},
   "source": [
    "Now we need to get a sufficient sample of matches to pull data from so that we can draw our conclusions. At least 5000 is preferable. Since only a certain amount of data remains stored in the API, as we find match_ids that both exist and have match data, we will save the match data in json format locally. The following dates and times and matches were available when I pulled the data."
   ]
  },
  {
   "cell_type": "code",
   "execution_count": 16,
   "id": "889e1b63",
   "metadata": {},
   "outputs": [],
   "source": [
    "#The dates we will use reference 8/2/2022 to 8/16/2022. They are split up to avoid exceeding daily API access data caps.\n",
    "#Each date_list query was run on a different day.\n",
    "date_list_1 = [20220802, 20220803, 20220804]\n",
    "for thing in date_list_1:\n",
    "    answer = requests.get(create_session())\n",
    "    #A new session created for each date will ensure our sessions (which have a time limit of 15 min) do not run out\n",
    "    session_deets = answer.json()\n",
    "    #Setting session_deets allows all other query functions to work properly\n",
    "    pull_date_files(thing)\n"
   ]
  },
  {
   "cell_type": "code",
   "execution_count": 4,
   "id": "b03dc44b",
   "metadata": {},
   "outputs": [],
   "source": [
    "date_list_2 = [20220805, 20220806, 20220807]\n",
    "for thing in date_list_2:\n",
    "    answer = requests.get(create_session())\n",
    "    session_deets = answer.json()\n",
    "    pull_date_files(thing)"
   ]
  },
  {
   "cell_type": "code",
   "execution_count": 3,
   "id": "dbbba639",
   "metadata": {},
   "outputs": [],
   "source": [
    "date_list_3 = [20220808, 20220809, 20220810] \n",
    "for thing in date_list_3:\n",
    "    answer = requests.get(create_session())\n",
    "    session_deets = answer.json()\n",
    "    pull_date_files(thing)"
   ]
  },
  {
   "cell_type": "code",
   "execution_count": 3,
   "id": "5842de01",
   "metadata": {},
   "outputs": [],
   "source": [
    "date_list_4 = [20220811, 20220812, 20220813]\n",
    "for thing in date_list_4:\n",
    "    answer = requests.get(create_session())\n",
    "    session_deets = answer.json()\n",
    "    pull_date_files(thing)"
   ]
  },
  {
   "cell_type": "code",
   "execution_count": 6,
   "id": "8920ea52",
   "metadata": {},
   "outputs": [],
   "source": [
    "date_list_5 = [20220814, 20220815, 20220816]\n",
    "for thing in date_list_5:\n",
    "    answer = requests.get(create_session())\n",
    "    session_deets = answer.json()\n",
    "    pull_date_files(thing)\n"
   ]
  },
  {
   "cell_type": "markdown",
   "id": "39ca749e",
   "metadata": {},
   "source": [
    "Some of the match_ids will not have data and will appear as empty lists. Others will have '0's for all entries, an error which occurs if we have exceeded our daily data limit. Despite the care we have taken above, this does happen sometimes, therefore, we know that some of our data is bad. To make sure we still have enough data to work with, we run the following block of code. This gives us a list of the bad files, which I have chosen to go in immediately and clean out. If would also be possible to filter the bad data out later, in the DataFrame, by using the Pandas dropna."
   ]
  },
  {
   "cell_type": "code",
   "execution_count": 11,
   "id": "94a04f53",
   "metadata": {},
   "outputs": [
    {
     "name": "stdout",
     "output_type": "stream",
     "text": [
      "The number of bad files is 162.\n",
      "The number of good files is 5245.\n"
     ]
    }
   ],
   "source": [
    "#File directories may need to be changed to match local locations.\n",
    "dir_list = os.listdir(\"C:/Users/AokoK/Documents/Python Scripts/Matches\")\n",
    "bad_files = 0\n",
    "good_files = 0\n",
    "bad_file_list = []\n",
    "for item in dir_list:\n",
    "    file_name = 'C:/Users/AokoK/Documents/Python Scripts/Matches/' + item\n",
    "    with open(file_name, 'r') as f:\n",
    "        data = json.load(f)\n",
    "        if data == []:\n",
    "            bad_files += 1\n",
    "            bad_file_list.append(file_name)\n",
    "        elif data[0]['Account_Level'] == 0:\n",
    "                bad_file_list.append(file_name)\n",
    "                bad_files += 1\n",
    "        else:\n",
    "                good_files += 1\n",
    "print(f\"The number of bad files is {bad_files}.\")\n",
    "print(f\"The number of good files is {good_files}.\")\n",
    "for item in bad_file_list:\n",
    "    os.remove(item)\n"
   ]
  },
  {
   "cell_type": "markdown",
   "id": "1e0a203f",
   "metadata": {},
   "source": [
    "We do have a number of bad files, but less than 5% of the total number and we have over 5000 good ones. We are good to proceed. Now we create our initial dataframe."
   ]
  },
  {
   "cell_type": "code",
   "execution_count": 51,
   "id": "979b3523",
   "metadata": {},
   "outputs": [
    {
     "data": {
      "text/html": [
       "<div>\n",
       "<style scoped>\n",
       "    .dataframe tbody tr th:only-of-type {\n",
       "        vertical-align: middle;\n",
       "    }\n",
       "\n",
       "    .dataframe tbody tr th {\n",
       "        vertical-align: top;\n",
       "    }\n",
       "\n",
       "    .dataframe thead th {\n",
       "        text-align: right;\n",
       "    }\n",
       "</style>\n",
       "<table border=\"1\" class=\"dataframe\">\n",
       "  <thead>\n",
       "    <tr style=\"text-align: right;\">\n",
       "      <th></th>\n",
       "      <th>Match Id</th>\n",
       "      <th>God Name</th>\n",
       "      <th>Win Status</th>\n",
       "    </tr>\n",
       "  </thead>\n",
       "  <tbody>\n",
       "    <tr>\n",
       "      <th>0</th>\n",
       "      <td>1259334605</td>\n",
       "      <td>Danzaburou</td>\n",
       "      <td>Winner</td>\n",
       "    </tr>\n",
       "    <tr>\n",
       "      <th>1</th>\n",
       "      <td>1259334605</td>\n",
       "      <td>Athena</td>\n",
       "      <td>Winner</td>\n",
       "    </tr>\n",
       "    <tr>\n",
       "      <th>2</th>\n",
       "      <td>1259334605</td>\n",
       "      <td>Anubis</td>\n",
       "      <td>Winner</td>\n",
       "    </tr>\n",
       "    <tr>\n",
       "      <th>3</th>\n",
       "      <td>1259334605</td>\n",
       "      <td>Bellona</td>\n",
       "      <td>Loser</td>\n",
       "    </tr>\n",
       "    <tr>\n",
       "      <th>4</th>\n",
       "      <td>1259334605</td>\n",
       "      <td>Janus</td>\n",
       "      <td>Loser</td>\n",
       "    </tr>\n",
       "    <tr>\n",
       "      <th>...</th>\n",
       "      <td>...</td>\n",
       "      <td>...</td>\n",
       "      <td>...</td>\n",
       "    </tr>\n",
       "    <tr>\n",
       "      <th>1</th>\n",
       "      <td>1261794712</td>\n",
       "      <td>Anubis</td>\n",
       "      <td>Winner</td>\n",
       "    </tr>\n",
       "    <tr>\n",
       "      <th>2</th>\n",
       "      <td>1261794712</td>\n",
       "      <td>Horus</td>\n",
       "      <td>Winner</td>\n",
       "    </tr>\n",
       "    <tr>\n",
       "      <th>3</th>\n",
       "      <td>1261794712</td>\n",
       "      <td>Sobek</td>\n",
       "      <td>Loser</td>\n",
       "    </tr>\n",
       "    <tr>\n",
       "      <th>4</th>\n",
       "      <td>1261794712</td>\n",
       "      <td>Janus</td>\n",
       "      <td>Loser</td>\n",
       "    </tr>\n",
       "    <tr>\n",
       "      <th>5</th>\n",
       "      <td>1261794712</td>\n",
       "      <td>Nemesis</td>\n",
       "      <td>Loser</td>\n",
       "    </tr>\n",
       "  </tbody>\n",
       "</table>\n",
       "<p>31470 rows × 3 columns</p>\n",
       "</div>"
      ],
      "text/plain": [
       "      Match Id    God Name Win Status\n",
       "0   1259334605  Danzaburou     Winner\n",
       "1   1259334605      Athena     Winner\n",
       "2   1259334605      Anubis     Winner\n",
       "3   1259334605     Bellona      Loser\n",
       "4   1259334605       Janus      Loser\n",
       "..         ...         ...        ...\n",
       "1   1261794712      Anubis     Winner\n",
       "2   1261794712       Horus     Winner\n",
       "3   1261794712       Sobek      Loser\n",
       "4   1261794712       Janus      Loser\n",
       "5   1261794712     Nemesis      Loser\n",
       "\n",
       "[31470 rows x 3 columns]"
      ]
     },
     "execution_count": 51,
     "metadata": {},
     "output_type": "execute_result"
    }
   ],
   "source": [
    "#File directories may need to be changed to match local locations.\n",
    "dir_list = os.listdir(\"C:/Users/AokoK/Documents/Python Scripts/Matches\")\n",
    "#We need a new dir_list since the old one contains the names of now deleted files\n",
    "full_frame = pd.DataFrame()\n",
    "for item in dir_list:\n",
    "    testing_list = []\n",
    "    file_name = 'C:/Users/AokoK/Documents/Python Scripts/Matches/' + item\n",
    "    with open(file_name, 'r') as f:\n",
    "        data = json.load(f)\n",
    "        for entry in data:\n",
    "            row_list = [item[:10]]\n",
    "            row_list.append(entry['Reference_Name'])\n",
    "            row_list.append(entry['Win_Status'])\n",
    "            testing_list.append(row_list)\n",
    "        df = pd.DataFrame(data = testing_list, columns = ['Match Id', 'God Name', 'Win Status'])\n",
    "        full_frame = pd.concat([full_frame, df])\n",
    "full_frame\n"
   ]
  },
  {
   "cell_type": "markdown",
   "id": "5d7df54c",
   "metadata": {},
   "source": [
    "This initial frame has all the data we need, but it needs a little tweaking to show it."
   ]
  },
  {
   "cell_type": "code",
   "execution_count": 80,
   "id": "d6ab9b75",
   "metadata": {},
   "outputs": [
    {
     "data": {
      "text/html": [
       "<div>\n",
       "<style scoped>\n",
       "    .dataframe tbody tr th:only-of-type {\n",
       "        vertical-align: middle;\n",
       "    }\n",
       "\n",
       "    .dataframe tbody tr th {\n",
       "        vertical-align: top;\n",
       "    }\n",
       "\n",
       "    .dataframe thead th {\n",
       "        text-align: right;\n",
       "    }\n",
       "</style>\n",
       "<table border=\"1\" class=\"dataframe\">\n",
       "  <thead>\n",
       "    <tr style=\"text-align: right;\">\n",
       "      <th></th>\n",
       "      <th>Win Rate %</th>\n",
       "      <th>God Name</th>\n",
       "      <th>Wins</th>\n",
       "      <th>Losses</th>\n",
       "      <th>Total Games</th>\n",
       "    </tr>\n",
       "  </thead>\n",
       "  <tbody>\n",
       "    <tr>\n",
       "      <th>0</th>\n",
       "      <td>61</td>\n",
       "      <td>Erlang Shen</td>\n",
       "      <td>70</td>\n",
       "      <td>44</td>\n",
       "      <td>114</td>\n",
       "    </tr>\n",
       "    <tr>\n",
       "      <th>1</th>\n",
       "      <td>58</td>\n",
       "      <td>Ganesha</td>\n",
       "      <td>118</td>\n",
       "      <td>85</td>\n",
       "      <td>203</td>\n",
       "    </tr>\n",
       "    <tr>\n",
       "      <th>2</th>\n",
       "      <td>58</td>\n",
       "      <td>Sobek</td>\n",
       "      <td>119</td>\n",
       "      <td>85</td>\n",
       "      <td>204</td>\n",
       "    </tr>\n",
       "    <tr>\n",
       "      <th>3</th>\n",
       "      <td>57</td>\n",
       "      <td>Serqet</td>\n",
       "      <td>52</td>\n",
       "      <td>38</td>\n",
       "      <td>90</td>\n",
       "    </tr>\n",
       "    <tr>\n",
       "      <th>4</th>\n",
       "      <td>57</td>\n",
       "      <td>Jormungandr</td>\n",
       "      <td>111</td>\n",
       "      <td>83</td>\n",
       "      <td>194</td>\n",
       "    </tr>\n",
       "    <tr>\n",
       "      <th>...</th>\n",
       "      <td>...</td>\n",
       "      <td>...</td>\n",
       "      <td>...</td>\n",
       "      <td>...</td>\n",
       "      <td>...</td>\n",
       "    </tr>\n",
       "    <tr>\n",
       "      <th>116</th>\n",
       "      <td>39</td>\n",
       "      <td>Fafnir</td>\n",
       "      <td>48</td>\n",
       "      <td>74</td>\n",
       "      <td>122</td>\n",
       "    </tr>\n",
       "    <tr>\n",
       "      <th>117</th>\n",
       "      <td>39</td>\n",
       "      <td>Da Ji</td>\n",
       "      <td>45</td>\n",
       "      <td>68</td>\n",
       "      <td>113</td>\n",
       "    </tr>\n",
       "    <tr>\n",
       "      <th>118</th>\n",
       "      <td>38</td>\n",
       "      <td>Yemoja</td>\n",
       "      <td>42</td>\n",
       "      <td>67</td>\n",
       "      <td>109</td>\n",
       "    </tr>\n",
       "    <tr>\n",
       "      <th>119</th>\n",
       "      <td>36</td>\n",
       "      <td>Set</td>\n",
       "      <td>28</td>\n",
       "      <td>48</td>\n",
       "      <td>76</td>\n",
       "    </tr>\n",
       "    <tr>\n",
       "      <th>120</th>\n",
       "      <td>35</td>\n",
       "      <td>Tiamat</td>\n",
       "      <td>49</td>\n",
       "      <td>89</td>\n",
       "      <td>138</td>\n",
       "    </tr>\n",
       "  </tbody>\n",
       "</table>\n",
       "<p>121 rows × 5 columns</p>\n",
       "</div>"
      ],
      "text/plain": [
       "     Win Rate %     God Name  Wins  Losses  Total Games\n",
       "0            61  Erlang Shen    70      44          114\n",
       "1            58      Ganesha   118      85          203\n",
       "2            58        Sobek   119      85          204\n",
       "3            57       Serqet    52      38           90\n",
       "4            57  Jormungandr   111      83          194\n",
       "..          ...          ...   ...     ...          ...\n",
       "116          39       Fafnir    48      74          122\n",
       "117          39        Da Ji    45      68          113\n",
       "118          38       Yemoja    42      67          109\n",
       "119          36          Set    28      48           76\n",
       "120          35       Tiamat    49      89          138\n",
       "\n",
       "[121 rows x 5 columns]"
      ]
     },
     "execution_count": 80,
     "metadata": {},
     "output_type": "execute_result"
    }
   ],
   "source": [
    "nf = full_frame[['God Name', \"Win Status\"]]\n",
    "udf = nf[nf['Win Status'] == \"Winner\"]\n",
    "sdf = udf['God Name'].value_counts()\n",
    "df = pd.DataFrame(sdf)\n",
    "df['Wins'] = df['God Name']\n",
    "df = df['Wins']\n",
    "nf = full_frame[['God Name', \"Win Status\"]]\n",
    "udf = nf[nf['Win Status'] == \"Loser\"]\n",
    "sdf = udf['God Name'].value_counts()\n",
    "df2 = pd.DataFrame(sdf)\n",
    "df2['Losses'] = df2['God Name']\n",
    "df2 = df2['Losses']\n",
    "full = pd.concat([df,df2],axis=1)\n",
    "full['Total Games'] = full['Wins'] + full['Losses']\n",
    "full['Win Rate %'] = full['Wins'] / full['Total Games']\n",
    "full['Win Rate %'] = full['Win Rate %'].apply(lambda x: x*100)\n",
    "full['Win Rate %'] = full['Win Rate %'].apply(lambda x: int(x))\n",
    "full.reset_index(inplace=True)\n",
    "full.set_index('Win Rate %', inplace=True)\n",
    "full.sort_index(axis=0,ascending=False, inplace=True)\n",
    "full.reset_index(inplace=True)\n",
    "full.rename(columns = {'index': 'God Name'}, inplace=True)\n",
    "full"
   ]
  },
  {
   "cell_type": "markdown",
   "id": "1393c3a2",
   "metadata": {},
   "source": [
    "We have now answered our orignal question. The best (highest win rate) god in Joust (for these 15 days) is Erlang Shen. Let's take a look at some of the spread, though. As there are 121 gods in Smite, showing all of the graphically would be more than a little messy. Let's just take a look at the top."
   ]
  },
  {
   "cell_type": "code",
   "execution_count": 112,
   "id": "05084856",
   "metadata": {},
   "outputs": [
    {
     "data": {
      "text/plain": [
       "<AxesSubplot:xlabel='God Name', ylabel='Win Rate %'>"
      ]
     },
     "execution_count": 112,
     "metadata": {},
     "output_type": "execute_result"
    },
    {
     "data": {
      "image/png": "[encoded data removed]",
      "text/plain": [
       "<Figure size 864x432 with 1 Axes>"
      ]
     },
     "metadata": {
      "needs_background": "light"
     },
     "output_type": "display_data"
    }
   ],
   "source": [
    "plt.figure(figsize=(12,6))\n",
    "sns.barplot(x='God Name', y='Win Rate %', data=full.head())"
   ]
  },
  {
   "cell_type": "markdown",
   "id": "fe324b52",
   "metadata": {},
   "source": [
    "All seems well, but with a glance back at our dataframe, we can tell that none of the gods with the highest win rates have very high numbers of total games. In fact, if we check which god has the highest total games played..."
   ]
  },
  {
   "cell_type": "code",
   "execution_count": 104,
   "id": "44a5e744",
   "metadata": {},
   "outputs": [
    {
     "data": {
      "text/html": [
       "<div>\n",
       "<style scoped>\n",
       "    .dataframe tbody tr th:only-of-type {\n",
       "        vertical-align: middle;\n",
       "    }\n",
       "\n",
       "    .dataframe tbody tr th {\n",
       "        vertical-align: top;\n",
       "    }\n",
       "\n",
       "    .dataframe thead th {\n",
       "        text-align: right;\n",
       "    }\n",
       "</style>\n",
       "<table border=\"1\" class=\"dataframe\">\n",
       "  <thead>\n",
       "    <tr style=\"text-align: right;\">\n",
       "      <th></th>\n",
       "      <th>Win Rate %</th>\n",
       "      <th>God Name</th>\n",
       "      <th>Wins</th>\n",
       "      <th>Losses</th>\n",
       "      <th>Total Games</th>\n",
       "    </tr>\n",
       "  </thead>\n",
       "  <tbody>\n",
       "    <tr>\n",
       "      <th>105</th>\n",
       "      <td>44</td>\n",
       "      <td>Neith</td>\n",
       "      <td>324</td>\n",
       "      <td>403</td>\n",
       "      <td>727</td>\n",
       "    </tr>\n",
       "  </tbody>\n",
       "</table>\n",
       "</div>"
      ],
      "text/plain": [
       "     Win Rate % God Name  Wins  Losses  Total Games\n",
       "105          44    Neith   324     403          727"
      ]
     },
     "execution_count": 104,
     "metadata": {},
     "output_type": "execute_result"
    }
   ],
   "source": [
    "full[full['Total Games'] == full['Total Games'].max()]"
   ]
  },
  {
   "cell_type": "markdown",
   "id": "51ec0745",
   "metadata": {},
   "source": [
    "We can see that Neith has a total of 727 games played, nearly 7 times our win rate leader, Erlang Shen and more than 3 times any of the gods in the top five. This suggests the possibility that we don't have accurate data for these gods simply because may not have enough data for them. Let's take a look at number of matches played.\n"
   ]
  },
  {
   "cell_type": "code",
   "execution_count": 105,
   "id": "862e3f60",
   "metadata": {},
   "outputs": [
    {
     "data": {
      "text/plain": [
       "260.08264462809916"
      ]
     },
     "execution_count": 105,
     "metadata": {},
     "output_type": "execute_result"
    }
   ],
   "source": [
    "full['Total Games'].mean()"
   ]
  },
  {
   "cell_type": "markdown",
   "id": "2c251852",
   "metadata": {},
   "source": [
    "This is a little more encouraging. The average number of matches played is 260. All the gods in the top five are still under that number but the numbers for Ganesha (203) and Sobek (204) aren't too far from it. That suggests that these numbers may be a little more \"honest\" than for the rest of the top five. At the same time, we should still probably be somewhat suspicious of our conclusion as to \"best\" god. Let's look at the relationship between win rate and matches played."
   ]
  },
  {
   "cell_type": "code",
   "execution_count": 108,
   "id": "d4874e81",
   "metadata": {},
   "outputs": [
    {
     "data": {
      "image/png": "[encoded data removed]",
      "text/plain": [
       "<Figure size 432x432 with 3 Axes>"
      ]
     },
     "metadata": {
      "needs_background": "light"
     },
     "output_type": "display_data"
    }
   ],
   "source": [
    "sns.jointplot(x='Win Rate %',y='Total Games',data=full,kind='reg')\n",
    "plt.tight_layout()"
   ]
  },
  {
   "cell_type": "markdown",
   "id": "8586afb8",
   "metadata": {},
   "source": [
    "We see a slight trend towards more matches leading to a higher win rate, but not really very much of one. Therefore, this suggests either there is only a slight correlation between number of matches played with a god and their win rate or that yet again, we don't have enough data to see the correlation if it exists. Fifteen days is, after all, a relatively short snapshot of time for a game that has been running for something close to eight years. Considering all of this, the conclusion that I like the most here is that I need more data. However, if I must make a conclusion based on the data I have, I think that I will say that Erland Shen is the best god in Joust. Question answered."
   ]
  },
  {
   "cell_type": "markdown",
   "id": "c39d4747",
   "metadata": {},
   "source": [
    "Or is it? Maybe your definition of \"best god\" has nothing to do with win rate. Winning is fun, sure, but there are other aspects that can make playing a god more or less fun. For example, let's say that you like to play a god with a lot of crowd control (CC) abilities. In particular, you like gods with stun (arguably the \"hardest\" form of CC) abilities. Since there are only 121 gods with four active abilities each, this is something you could do manually, but even for a fast reader, it would be pretty annoying. Let's ask the Smite API."
   ]
  },
  {
   "cell_type": "code",
   "execution_count": 115,
   "id": "9e406489",
   "metadata": {},
   "outputs": [
    {
     "name": "stdout",
     "output_type": "stream",
     "text": [
      "{'ret_msg': 'Approved', 'session_id': '48FB8C7534E14C2191272516DF37E5E7', 'timestamp': '8/21/2022 8:40:57 PM'}\n"
     ]
    }
   ],
   "source": [
    "answer = requests.get(create_session())\n",
    "session_deets = answer.json()\n",
    "print(session_deets)"
   ]
  },
  {
   "cell_type": "code",
   "execution_count": 120,
   "id": "c3638553",
   "metadata": {},
   "outputs": [
    {
     "name": "stdout",
     "output_type": "stream",
     "text": [
      "31\n"
     ]
    },
    {
     "data": {
      "text/html": [
       "<div>\n",
       "<style scoped>\n",
       "    .dataframe tbody tr th:only-of-type {\n",
       "        vertical-align: middle;\n",
       "    }\n",
       "\n",
       "    .dataframe tbody tr th {\n",
       "        vertical-align: top;\n",
       "    }\n",
       "\n",
       "    .dataframe thead th {\n",
       "        text-align: right;\n",
       "    }\n",
       "</style>\n",
       "<table border=\"1\" class=\"dataframe\">\n",
       "  <thead>\n",
       "    <tr style=\"text-align: right;\">\n",
       "      <th></th>\n",
       "      <th>Ability</th>\n",
       "    </tr>\n",
       "    <tr>\n",
       "      <th>God</th>\n",
       "      <th></th>\n",
       "    </tr>\n",
       "  </thead>\n",
       "  <tbody>\n",
       "    <tr>\n",
       "      <th>Achilles</th>\n",
       "      <td>1</td>\n",
       "    </tr>\n",
       "    <tr>\n",
       "      <th>Agni</th>\n",
       "      <td>1</td>\n",
       "    </tr>\n",
       "    <tr>\n",
       "      <th>Ah Puch</th>\n",
       "      <td>1</td>\n",
       "    </tr>\n",
       "    <tr>\n",
       "      <th>Amaterasu</th>\n",
       "      <td>1</td>\n",
       "    </tr>\n",
       "    <tr>\n",
       "      <th>Anhur</th>\n",
       "      <td>1</td>\n",
       "    </tr>\n",
       "    <tr>\n",
       "      <th>Anubis</th>\n",
       "      <td>1</td>\n",
       "    </tr>\n",
       "    <tr>\n",
       "      <th>Aphrodite</th>\n",
       "      <td>1</td>\n",
       "    </tr>\n",
       "    <tr>\n",
       "      <th>Arachne</th>\n",
       "      <td>1</td>\n",
       "    </tr>\n",
       "    <tr>\n",
       "      <th>Cabrakan</th>\n",
       "      <td>2</td>\n",
       "    </tr>\n",
       "    <tr>\n",
       "      <th>Cerberus</th>\n",
       "      <td>1</td>\n",
       "    </tr>\n",
       "    <tr>\n",
       "      <th>Charybdis</th>\n",
       "      <td>1</td>\n",
       "    </tr>\n",
       "    <tr>\n",
       "      <th>Cthulhu</th>\n",
       "      <td>1</td>\n",
       "    </tr>\n",
       "    <tr>\n",
       "      <th>Cu Chulainn</th>\n",
       "      <td>1</td>\n",
       "    </tr>\n",
       "    <tr>\n",
       "      <th>Danzaburou</th>\n",
       "      <td>1</td>\n",
       "    </tr>\n",
       "    <tr>\n",
       "      <th>Geb</th>\n",
       "      <td>1</td>\n",
       "    </tr>\n",
       "    <tr>\n",
       "      <th>Gilgamesh</th>\n",
       "      <td>1</td>\n",
       "    </tr>\n",
       "    <tr>\n",
       "      <th>Hachiman</th>\n",
       "      <td>1</td>\n",
       "    </tr>\n",
       "    <tr>\n",
       "      <th>Hou Yi</th>\n",
       "      <td>1</td>\n",
       "    </tr>\n",
       "    <tr>\n",
       "      <th>Kali</th>\n",
       "      <td>1</td>\n",
       "    </tr>\n",
       "    <tr>\n",
       "      <th>Medusa</th>\n",
       "      <td>1</td>\n",
       "    </tr>\n",
       "    <tr>\n",
       "      <th>Mulan</th>\n",
       "      <td>1</td>\n",
       "    </tr>\n",
       "    <tr>\n",
       "      <th>Odin</th>\n",
       "      <td>1</td>\n",
       "    </tr>\n",
       "    <tr>\n",
       "      <th>Osiris</th>\n",
       "      <td>1</td>\n",
       "    </tr>\n",
       "    <tr>\n",
       "      <th>Serqet</th>\n",
       "      <td>1</td>\n",
       "    </tr>\n",
       "    <tr>\n",
       "      <th>Sylvanus</th>\n",
       "      <td>1</td>\n",
       "    </tr>\n",
       "    <tr>\n",
       "      <th>Thanatos</th>\n",
       "      <td>1</td>\n",
       "    </tr>\n",
       "    <tr>\n",
       "      <th>The Morrigan</th>\n",
       "      <td>1</td>\n",
       "    </tr>\n",
       "    <tr>\n",
       "      <th>Tiamat</th>\n",
       "      <td>1</td>\n",
       "    </tr>\n",
       "    <tr>\n",
       "      <th>Tsukuyomi</th>\n",
       "      <td>1</td>\n",
       "    </tr>\n",
       "    <tr>\n",
       "      <th>Yemoja</th>\n",
       "      <td>1</td>\n",
       "    </tr>\n",
       "  </tbody>\n",
       "</table>\n",
       "</div>"
      ],
      "text/plain": [
       "              Ability\n",
       "God                  \n",
       "Achilles            1\n",
       "Agni                1\n",
       "Ah Puch             1\n",
       "Amaterasu           1\n",
       "Anhur               1\n",
       "Anubis              1\n",
       "Aphrodite           1\n",
       "Arachne             1\n",
       "Cabrakan            2\n",
       "Cerberus            1\n",
       "Charybdis           1\n",
       "Cthulhu             1\n",
       "Cu Chulainn         1\n",
       "Danzaburou          1\n",
       "Geb                 1\n",
       "Gilgamesh           1\n",
       "Hachiman            1\n",
       "Hou Yi              1\n",
       "Kali                1\n",
       "Medusa              1\n",
       "Mulan               1\n",
       "Odin                1\n",
       "Osiris              1\n",
       "Serqet              1\n",
       "Sylvanus            1\n",
       "Thanatos            1\n",
       "The Morrigan        1\n",
       "Tiamat              1\n",
       "Tsukuyomi           1\n",
       "Yemoja              1"
      ]
     },
     "execution_count": 120,
     "metadata": {},
     "output_type": "execute_result"
    }
   ],
   "source": [
    "gods_answer = requests.get(get_gods())\n",
    "gods = gods_answer.json()\n",
    "x = 0\n",
    "full_list = []\n",
    "for item in gods:\n",
    "    ability_list = []\n",
    "    for thing in item['Ability_1']['Description']['itemDescription']['rankitems']:\n",
    "        if thing['description'] == \"Stun Duration:\":\n",
    "            x += 1\n",
    "            ability_list.append(item['Name'])\n",
    "            ability_list.append(item['Ability1'])\n",
    "            full_list.append(ability_list)\n",
    "    for thing in item['Ability_2']['Description']['itemDescription']['rankitems']:\n",
    "        ability_list = []\n",
    "        if thing['description'] == \"Stun Duration:\":\n",
    "            x += 1\n",
    "            ability_list.append(item['Name'])\n",
    "            ability_list.append(item['Ability2'])\n",
    "            full_list.append(ability_list)\n",
    "    for thing in item['Ability_3']['Description']['itemDescription']['rankitems']:\n",
    "        ability_list = []\n",
    "        if thing['description'] == \"Stun Duration:\":\n",
    "            x += 1\n",
    "            ability_list.append(item['Name'])\n",
    "            ability_list.append(item['Ability3'])\n",
    "            full_list.append(ability_list)\n",
    "    for thing in item['Ability_4']['Description']['itemDescription']['rankitems']:\n",
    "        ability_list = []\n",
    "        if thing['description'] == \"Stun Duration:\":\n",
    "            x += 1\n",
    "            ability_list.append(item['Name'])\n",
    "            ability_list.append(item['Ability4'])\n",
    "            full_list.append(ability_list)\n",
    "print(x)\n",
    "stun_frame = pd.DataFrame(data = full_list, columns = ['God', \"Ability\"])\n",
    "stun_frame\n",
    "byGod = stun_frame.groupby('God').count()\n",
    "byGod"
   ]
  },
  {
   "cell_type": "markdown",
   "id": "eb7d730a",
   "metadata": {},
   "source": [
    "There are quite a few gods that have stuns, as the table informs us, but only one god has multiple stun abilities. We don't even need to do any graphing. If your idea of the best god is the god with the most stuns, than Cabrakan is clearly the one to choose. This is a conclusion that I can state (almost) without reservation, since I have all the data in existence (at this point in time, until they add more gods) about this question. Now, there are certainly more possible definitions of \"best\" and more questions we could ask but that will forever be the case. For now, we have one good and one iffy conclusion and will settle for that."
   ]
  },
  {
   "cell_type": "code",
   "execution_count": null,
   "id": "c54a254e",
   "metadata": {},
   "outputs": [],
   "source": []
  }
 ],
 "metadata": {
  "kernelspec": {
   "display_name": "Python 3 (ipykernel)",
   "language": "python",
   "name": "python3"
  },
  "language_info": {
   "codemirror_mode": {
    "name": "ipython",
    "version": 3
   },
   "file_extension": ".py",
   "mimetype": "text/x-python",
   "name": "python",
   "nbconvert_exporter": "python",
   "pygments_lexer": "ipython3",
   "version": "3.9.12"
  }
 },
 "nbformat": 4,
 "nbformat_minor": 5
}
